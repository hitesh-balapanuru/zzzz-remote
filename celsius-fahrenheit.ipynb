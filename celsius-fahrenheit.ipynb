{
 "cells": [
  {
   "cell_type": "code",
   "execution_count": 2,
   "metadata": {},
   "outputs": [
    {
     "name": "stdout",
     "output_type": "stream",
     "text": [
      "enter temperarure in celsius\n",
      "23\n",
      "in kelvin\n",
      "296\n"
     ]
    }
   ],
   "source": [
    "print('enter temperarure in celsius')\n",
    "inp=input()\n",
    "kelvin = int(inp)+273\n",
    "print('in kelvin')\n",
    "print(kelvin)"
   ]
  },
  {
   "cell_type": "code",
   "execution_count": 4,
   "metadata": {},
   "outputs": [
    {
     "name": "stdout",
     "output_type": "stream",
     "text": [
      "in fahrenheit\n",
      "73.4\n"
     ]
    }
   ],
   "source": [
    "f=int(inp)*1.8 + 32\n",
    "print('in fahrenheit')\n",
    "print(f)"
   ]
  },
  {
   "cell_type": "code",
   "execution_count": null,
   "metadata": {},
   "outputs": [],
   "source": []
  }
 ],
 "metadata": {
  "kernelspec": {
   "display_name": "Python 3",
   "language": "python",
   "name": "python3"
  },
  "language_info": {
   "codemirror_mode": {
    "name": "ipython",
    "version": 3
   },
   "file_extension": ".py",
   "mimetype": "text/x-python",
   "name": "python",
   "nbconvert_exporter": "python",
   "pygments_lexer": "ipython3",
   "version": "3.6.5"
  }
 },
 "nbformat": 4,
 "nbformat_minor": 2
}
